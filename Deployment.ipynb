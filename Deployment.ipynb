{
 "cells": [
  {
   "cell_type": "markdown",
   "metadata": {},
   "source": [
    "# Index.html"
   ]
  },
  {
   "cell_type": "code",
   "execution_count": null,
   "metadata": {},
   "outputs": [],
   "source": [
    "<html>\n",
    "<body>\n",
    "    <CENTER>\n",
    "    <h1 style=\"text-align: center\">M5 Forcasting Accuracy</h1>\n",
    "    <!-- <img src=\"C:\\\\Users\\91998\\Desktop\\Git Commit\\HeroKuDeployment\\For_live\\IRIS\\templates\\walmart.png\" width=\"800\" height=\"300\"> -->\n",
    "\n",
    "\n",
    "   <form method=\"POST\" enctype=multipart/form-data>\n",
    "   <h3>File: <input type = \"file\" name = \"file\" /></h3>\n",
    "\n",
    "\n",
    "<input type=\"submit\" value=\"Submit\" size=\"12\">\n",
    "</form>\n",
    "<p> {{message}} </p>\n",
    "\n",
    "</CENTER>\n",
    "</body>\n",
    "</html>"
   ]
  },
  {
   "cell_type": "markdown",
   "metadata": {},
   "source": [
    "<html>\n",
    "<body>\n",
    "    <CENTER>\n",
    "    <h1 style=\"text-align: center\">M5 Forcasting Accuracy</h1>\n",
    "    <!-- <img src=\"C:\\\\Users\\91998\\Desktop\\Git Commit\\HeroKuDeployment\\For_live\\IRIS\\templates\\walmart.png\" width=\"800\" height=\"300\"> -->\n",
    "\n",
    "\n",
    "   <form method=\"POST\" enctype=multipart/form-data>\n",
    "   <h3>File: <input type = \"file\" name = \"file\" /></h3>\n",
    "\n",
    "\n",
    "<input type=\"submit\" value=\"Submit\" size=\"12\">\n",
    "</form>\n",
    "<p> {{message}} </p>\n",
    "\n",
    "</CENTER>\n",
    "</body>\n",
    "</html>"
   ]
  },
  {
   "cell_type": "markdown",
   "metadata": {},
   "source": [
    "# app.py"
   ]
  },
  {
   "cell_type": "code",
   "execution_count": null,
   "metadata": {},
   "outputs": [],
   "source": [
    "#Web link :  https://casestudym5.herokuapp.com/index\n",
    "from flask import Flask, jsonify, request\n",
    "import numpy as np\n",
    "import pandas as pd\n",
    "import lightgbm as lgb\n",
    "import time\n",
    "from joblib import load\n",
    "\n",
    "# https://www.tutorialspoint.com/flask\n",
    "import flask\n",
    "app = Flask(__name__)\n",
    "\n",
    "\n",
    "@app.route('/')\n",
    "def hello_world():\n",
    "    return 'Hello World!'\n",
    "\n",
    "@app.route('/index', methods=['GET', 'POST'])  \n",
    "def predict():\n",
    "    if request.method == 'POST':\n",
    "        file = request.files['file']\n",
    "        path = \"C:\\\\Users\\\\91998\\\\Desktop\\\\Git Commit\\\\HeroKuDeployment\\\\For_live\\\\IRIS\\\\uploads\\\\\" + file.filename\n",
    "        \n",
    "        file.save(path)\n",
    "        # print(\"file uploaded successfully\")\n",
    "        path = pd.read_csv(path)\n",
    "        model = load(\"lightgbm\")\n",
    "        col = [ 'item_id', 'dept_id', 'cat_id', 'store_id', 'state_id',\n",
    "        'wm_yr_wk', 'event_name_1', 'event_type_1',\n",
    "        'event_name_2', 'event_type_2', 'snap_CA', 'snap_TX', 'snap_WI',\n",
    "        'sell_price', 'lag_28', 'lag_29', 'lag_30', 'rolling_mean_t7',\n",
    "        'rolling_std_t7', 'year', 'month', 'day', 'week']\n",
    "        start_time = time.time()\n",
    "        for i in range(28, 31):\n",
    "            index_name = \"lag_\"+str(i)\n",
    "            path[index_name] = path.groupby(['id'])['demand'].transform(lambda x: x.shift(i))  \n",
    "        path['rolling_mean_t7'] = path.groupby(['id'])['demand'].transform(lambda x: x.shift(28).rolling(7).mean())\n",
    "        path['rolling_std_t7'] = path.groupby(['id'])['demand'].transform(lambda x: x.shift(28).rolling(7).std())    \n",
    "        y_pred = model.predict(path[col])\n",
    "        path['demand'] = y_pred\n",
    "        predictions = path[['id', 'date', 'demand']]\n",
    "        predictions = predictions.pivot_table( index = 'id', columns = 'date', values = 'demand')\n",
    "        columns = ['F' + str(i + 1) for i in range(28)]\n",
    "        predictions.columns = columns\n",
    "       \n",
    "        \n",
    "        d =  str(time.time() - start_time) + str(\"seconds\" )\n",
    "        predictions['execution_time'] = d\n",
    "        c = predictions.to_html(header=\"true\",  table_id=\"table\" )\n",
    "        \n",
    "        \n",
    "    \n",
    "        #https://stackoverflow.com/questions/39831894/json2html-python-json-data-not-converted-to-html#answer-39832966\n",
    "        return (predictions.to_html(header=\"true\",  table_id=\"table\" ))\n",
    "     \n",
    "\n",
    "    return  flask.render_template('index.html', message=' Upload file')\n",
    "if __name__ == '__main__':\n",
    "    app.run(host='0.0.0.0', port=8080)\n"
   ]
  },
  {
   "cell_type": "code",
   "execution_count": null,
   "metadata": {},
   "outputs": [],
   "source": []
  }
 ],
 "metadata": {
  "kernelspec": {
   "display_name": "Python 3",
   "language": "python",
   "name": "python3"
  },
  "language_info": {
   "codemirror_mode": {
    "name": "ipython",
    "version": 3
   },
   "file_extension": ".py",
   "mimetype": "text/x-python",
   "name": "python",
   "nbconvert_exporter": "python",
   "pygments_lexer": "ipython3",
   "version": "3.7.7"
  },
  "latex_envs": {
   "LaTeX_envs_menu_present": true,
   "autoclose": false,
   "autocomplete": true,
   "bibliofile": "biblio.bib",
   "cite_by": "apalike",
   "current_citInitial": 1,
   "eqLabelWithNumbers": true,
   "eqNumInitial": 1,
   "hotkeys": {
    "equation": "Ctrl-E",
    "itemize": "Ctrl-I"
   },
   "labels_anchors": false,
   "latex_user_defs": false,
   "report_style_numbering": false,
   "user_envs_cfg": false
  },
  "toc": {
   "base_numbering": 1,
   "nav_menu": {},
   "number_sections": true,
   "sideBar": true,
   "skip_h1_title": false,
   "title_cell": "Table of Contents",
   "title_sidebar": "Contents",
   "toc_cell": false,
   "toc_position": {},
   "toc_section_display": true,
   "toc_window_display": false
  }
 },
 "nbformat": 4,
 "nbformat_minor": 4
}
